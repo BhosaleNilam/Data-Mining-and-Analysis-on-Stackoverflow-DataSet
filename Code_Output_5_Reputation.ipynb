{
  "nbformat": 4,
  "nbformat_minor": 0,
  "metadata": {
    "colab": {
      "name": "Reputation.ipynb",
      "provenance": [],
      "collapsed_sections": []
    },
    "kernelspec": {
      "name": "python3",
      "display_name": "Python 3"
    },
    "language_info": {
      "name": "python"
    }
  },
  "cells": [
    {
      "cell_type": "code",
      "execution_count": 35,
      "metadata": {
        "id": "JZV9C-y-5qk-",
        "colab": {
          "base_uri": "https://localhost:8080/"
        },
        "outputId": "112f72dd-188a-4359-d980-4f78b10d18a4"
      },
      "outputs": [
        {
          "output_type": "stream",
          "name": "stdout",
          "text": [
            "Completed loading post.csv\n",
            "Completed loading user.csv\n",
            "Completed loading df_ph.csv 3960541\n",
            "After cleaning the ph data frame 3960541\n",
            "Completed loading votes.csv\n",
            "Completed loading comments.csv\n"
          ]
        }
      ],
      "source": [
        "import pandas as pd\n",
        "import io\n",
        "import matplotlib.pyplot as plt\n",
        "\n",
        "\n",
        "df_post = pd.read_csv('/content/posts.csv')\n",
        "print(\"Completed loading post.csv\")\n",
        "\n",
        "df_user = pd.read_csv('/content/users.csv')\n",
        "print(\"Completed loading user.csv\")\n",
        "\n",
        "df_ph = pd.read_csv('/content/post_history.csv')\n",
        "print(\"Completed loading df_ph.csv {}\".format(df_ph.shape[0]))\n",
        "print(\"After cleaning the ph data frame {}\".format(df_ph.shape[0]))\n",
        "\n",
        "df_votes= pd.read_csv('/content/votes.csv')\n",
        "print(\"Completed loading votes.csv\")\n",
        "\n",
        "df_comments= pd.read_csv('/content/comments.csv')\n",
        "print(\"Completed loading comments.csv\")\n",
        "\n",
        "\n"
      ]
    },
    {
      "cell_type": "code",
      "source": [
        "#set the datetime\n",
        "print(\"user data types\\n {}\".format(df_user.dtypes))\n",
        "print(\"post data types\\n {}\".format(df_post.dtypes))\n",
        "print(\"ph data types\\n {}\".format(df_ph.dtypes))\n",
        "print(\"vote data types\\n {}\".format(df_votes.dtypes))\n",
        "\n",
        "print(df_ph.shape)\n",
        "print(df_post.shape)\n",
        "print(df_post.dtypes)"
      ],
      "metadata": {
        "colab": {
          "base_uri": "https://localhost:8080/"
        },
        "id": "5u_s8wzQ7uH7",
        "outputId": "861b5942-aca0-42f2-e777-9dc8cf1277ce"
      },
      "execution_count": 36,
      "outputs": [
        {
          "output_type": "stream",
          "name": "stdout",
          "text": [
            "user data types\n",
            " Unnamed: 0        int64\n",
            "id                int64\n",
            "reputation        int64\n",
            "creation_date    object\n",
            "display_name     object\n",
            "views             int64\n",
            "upvotes           int64\n",
            "downvotes         int64\n",
            "account_id        int64\n",
            "dtype: object\n",
            "post data types\n",
            " Unnamed: 0                int64\n",
            "id                        int64\n",
            "post_type_id              int64\n",
            "accepted_answer_id        int64\n",
            "parent_id               float64\n",
            "creation_date            object\n",
            "score                   float64\n",
            "view_count              float64\n",
            "owner_user_id           float64\n",
            "tags                     object\n",
            "answer_count            float64\n",
            "comment_count           float64\n",
            "favorite_count          float64\n",
            "closed_date              object\n",
            "community_owned_date     object\n",
            "dtype: object\n",
            "ph data types\n",
            " Unnamed: 0         int64\n",
            "id                 int64\n",
            "ph_type_id         int64\n",
            "post_id            int64\n",
            "creation_date     object\n",
            "user_id          float64\n",
            "dtype: object\n",
            "vote data types\n",
            " Unnamed: 0         int64\n",
            "id               float64\n",
            "post_id          float64\n",
            "vote_type_id     float64\n",
            "creation_date     object\n",
            "bounty_amount    float64\n",
            "user_id          float64\n",
            "dtype: object\n",
            "(3960541, 6)\n",
            "(2718948, 15)\n",
            "Unnamed: 0                int64\n",
            "id                        int64\n",
            "post_type_id              int64\n",
            "accepted_answer_id        int64\n",
            "parent_id               float64\n",
            "creation_date            object\n",
            "score                   float64\n",
            "view_count              float64\n",
            "owner_user_id           float64\n",
            "tags                     object\n",
            "answer_count            float64\n",
            "comment_count           float64\n",
            "favorite_count          float64\n",
            "closed_date              object\n",
            "community_owned_date     object\n",
            "dtype: object\n"
          ]
        }
      ]
    },
    {
      "cell_type": "code",
      "source": [
        "df_user['creation_date'] = pd.to_datetime(df_user['creation_date'],errors='coerce',format='%Y-%m-%dT%H:%M:%S.%f')\n",
        "df_post['creation_date'] = pd.to_datetime(df_post['creation_date'],errors='coerce',format='%Y-%m-%dT%H:%M:%S.%f')\n",
        "df_post['closed_date'] = pd.to_datetime(df_post['closed_date'],format='%Y-%m-%dT%H:%M:%S.%f')\n",
        "df_post['community_owned_date'] = pd.to_datetime(df_post['community_owned_date'],format='%Y-%m-%dT%H:%M:%S.%f')\n",
        "\n",
        "df_ph['creation_date'] = pd.to_datetime(df_ph['creation_date'],format='%Y-%m-%dT%H:%M:%S.%f')\n"
      ],
      "metadata": {
        "id": "w-C7nFRW7zpo"
      },
      "execution_count": 37,
      "outputs": []
    },
    {
      "cell_type": "code",
      "source": [
        "#select creation_date from user table\n",
        "df_userid=df_user[df_user['id']==5]\n",
        "print(df_userid)\n",
        "\n",
        "df_user = df_userid['creation_date']\n",
        "print(df_user)"
      ],
      "metadata": {
        "colab": {
          "base_uri": "https://localhost:8080/"
        },
        "id": "aoOse7mP7BTM",
        "outputId": "7c2ec3ad-3a16-4ac1-bed4-8a87c9b4a9d5"
      },
      "execution_count": 38,
      "outputs": [
        {
          "output_type": "stream",
          "name": "stdout",
          "text": [
            "   Unnamed: 0  id  reputation  ... upvotes downvotes  account_id\n",
            "5           5   5       17556  ...     704        34        -999\n",
            "\n",
            "[1 rows x 9 columns]\n",
            "5   2008-07-31 14:22:31.317\n",
            "Name: creation_date, dtype: datetime64[ns]\n"
          ]
        }
      ]
    },
    {
      "cell_type": "code",
      "source": [
        "from datetime import datetime\n",
        "  \n",
        "  \n",
        "# returns current date and time\n",
        "current_date = datetime.now()\n",
        "print(\"now = \", current_date)"
      ],
      "metadata": {
        "id": "7FXqMXAE550H",
        "colab": {
          "base_uri": "https://localhost:8080/"
        },
        "outputId": "de94a70a-e938-41dc-c134-176f58beb422"
      },
      "execution_count": 39,
      "outputs": [
        {
          "output_type": "stream",
          "name": "stdout",
          "text": [
            "now =  2022-02-17 00:44:41.958485\n"
          ]
        }
      ]
    },
    {
      "cell_type": "code",
      "source": [
        "df_user['current_date'] =current_date"
      ],
      "metadata": {
        "id": "mZSw27NS8PMR"
      },
      "execution_count": 40,
      "outputs": []
    },
    {
      "cell_type": "code",
      "source": [
        "df_userid['reputation']"
      ],
      "metadata": {
        "colab": {
          "base_uri": "https://localhost:8080/"
        },
        "id": "HnLCKMBs8vI6",
        "outputId": "f36c24f0-2f40-4861-ed03-81504b6c53ed"
      },
      "execution_count": 41,
      "outputs": [
        {
          "output_type": "execute_result",
          "data": {
            "text/plain": [
              "5    17556\n",
              "Name: reputation, dtype: int64"
            ]
          },
          "metadata": {},
          "execution_count": 41
        }
      ]
    },
    {
      "cell_type": "code",
      "source": [
        "df_post = df_post[df_post['owner_user_id']==5]\n"
      ],
      "metadata": {
        "id": "mc50oC8n9wAX"
      },
      "execution_count": 42,
      "outputs": []
    },
    {
      "cell_type": "code",
      "source": [
        "df_post.head()"
      ],
      "metadata": {
        "colab": {
          "base_uri": "https://localhost:8080/",
          "height": 391
        },
        "id": "iGt2vXr2-bKA",
        "outputId": "2fdba5d4-6d9e-4db2-836e-b6a7826520db"
      },
      "execution_count": 43,
      "outputs": [
        {
          "output_type": "execute_result",
          "data": {
            "text/html": [
              "\n",
              "  <div id=\"df-3bc2491a-49cf-464f-aca1-f6ef0868584a\">\n",
              "    <div class=\"colab-df-container\">\n",
              "      <div>\n",
              "<style scoped>\n",
              "    .dataframe tbody tr th:only-of-type {\n",
              "        vertical-align: middle;\n",
              "    }\n",
              "\n",
              "    .dataframe tbody tr th {\n",
              "        vertical-align: top;\n",
              "    }\n",
              "\n",
              "    .dataframe thead th {\n",
              "        text-align: right;\n",
              "    }\n",
              "</style>\n",
              "<table border=\"1\" class=\"dataframe\">\n",
              "  <thead>\n",
              "    <tr style=\"text-align: right;\">\n",
              "      <th></th>\n",
              "      <th>Unnamed: 0</th>\n",
              "      <th>id</th>\n",
              "      <th>post_type_id</th>\n",
              "      <th>accepted_answer_id</th>\n",
              "      <th>parent_id</th>\n",
              "      <th>creation_date</th>\n",
              "      <th>score</th>\n",
              "      <th>view_count</th>\n",
              "      <th>owner_user_id</th>\n",
              "      <th>tags</th>\n",
              "      <th>answer_count</th>\n",
              "      <th>comment_count</th>\n",
              "      <th>favorite_count</th>\n",
              "      <th>closed_date</th>\n",
              "      <th>community_owned_date</th>\n",
              "    </tr>\n",
              "  </thead>\n",
              "  <tbody>\n",
              "    <tr>\n",
              "      <th>13</th>\n",
              "      <td>13</td>\n",
              "      <td>20</td>\n",
              "      <td>2</td>\n",
              "      <td>-999</td>\n",
              "      <td>8.0</td>\n",
              "      <td>2008-08-01 07:25:22.443</td>\n",
              "      <td>3.0</td>\n",
              "      <td>0.0</td>\n",
              "      <td>5.0</td>\n",
              "      <td>NaN</td>\n",
              "      <td>0.0</td>\n",
              "      <td>0.0</td>\n",
              "      <td>0.0</td>\n",
              "      <td>NaT</td>\n",
              "      <td>NaT</td>\n",
              "    </tr>\n",
              "    <tr>\n",
              "      <th>228</th>\n",
              "      <td>228</td>\n",
              "      <td>352</td>\n",
              "      <td>2</td>\n",
              "      <td>-999</td>\n",
              "      <td>36.0</td>\n",
              "      <td>2008-08-02 05:20:22.397</td>\n",
              "      <td>19.0</td>\n",
              "      <td>0.0</td>\n",
              "      <td>5.0</td>\n",
              "      <td>NaN</td>\n",
              "      <td>0.0</td>\n",
              "      <td>0.0</td>\n",
              "      <td>0.0</td>\n",
              "      <td>NaT</td>\n",
              "      <td>NaT</td>\n",
              "    </tr>\n",
              "    <tr>\n",
              "      <th>1158</th>\n",
              "      <td>1158</td>\n",
              "      <td>1929</td>\n",
              "      <td>1</td>\n",
              "      <td>1931</td>\n",
              "      <td>-999.0</td>\n",
              "      <td>2008-08-05 05:25:10.747</td>\n",
              "      <td>7.0</td>\n",
              "      <td>2442.0</td>\n",
              "      <td>5.0</td>\n",
              "      <td>&lt;keyboard&gt;&lt;ergonomics&gt;&lt;rsi&gt;</td>\n",
              "      <td>11.0</td>\n",
              "      <td>0.0</td>\n",
              "      <td>2.0</td>\n",
              "      <td>NaT</td>\n",
              "      <td>NaT</td>\n",
              "    </tr>\n",
              "    <tr>\n",
              "      <th>1207</th>\n",
              "      <td>1207</td>\n",
              "      <td>2003</td>\n",
              "      <td>2</td>\n",
              "      <td>-999</td>\n",
              "      <td>1973.0</td>\n",
              "      <td>2008-08-05 07:58:11.297</td>\n",
              "      <td>15.0</td>\n",
              "      <td>0.0</td>\n",
              "      <td>5.0</td>\n",
              "      <td>NaN</td>\n",
              "      <td>0.0</td>\n",
              "      <td>0.0</td>\n",
              "      <td>0.0</td>\n",
              "      <td>NaT</td>\n",
              "      <td>NaT</td>\n",
              "    </tr>\n",
              "    <tr>\n",
              "      <th>1210</th>\n",
              "      <td>1210</td>\n",
              "      <td>2007</td>\n",
              "      <td>2</td>\n",
              "      <td>-999</td>\n",
              "      <td>1999.0</td>\n",
              "      <td>2008-08-05 08:03:11.037</td>\n",
              "      <td>8.0</td>\n",
              "      <td>0.0</td>\n",
              "      <td>5.0</td>\n",
              "      <td>NaN</td>\n",
              "      <td>0.0</td>\n",
              "      <td>1.0</td>\n",
              "      <td>0.0</td>\n",
              "      <td>NaT</td>\n",
              "      <td>NaT</td>\n",
              "    </tr>\n",
              "  </tbody>\n",
              "</table>\n",
              "</div>\n",
              "      <button class=\"colab-df-convert\" onclick=\"convertToInteractive('df-3bc2491a-49cf-464f-aca1-f6ef0868584a')\"\n",
              "              title=\"Convert this dataframe to an interactive table.\"\n",
              "              style=\"display:none;\">\n",
              "        \n",
              "  <svg xmlns=\"http://www.w3.org/2000/svg\" height=\"24px\"viewBox=\"0 0 24 24\"\n",
              "       width=\"24px\">\n",
              "    <path d=\"M0 0h24v24H0V0z\" fill=\"none\"/>\n",
              "    <path d=\"M18.56 5.44l.94 2.06.94-2.06 2.06-.94-2.06-.94-.94-2.06-.94 2.06-2.06.94zm-11 1L8.5 8.5l.94-2.06 2.06-.94-2.06-.94L8.5 2.5l-.94 2.06-2.06.94zm10 10l.94 2.06.94-2.06 2.06-.94-2.06-.94-.94-2.06-.94 2.06-2.06.94z\"/><path d=\"M17.41 7.96l-1.37-1.37c-.4-.4-.92-.59-1.43-.59-.52 0-1.04.2-1.43.59L10.3 9.45l-7.72 7.72c-.78.78-.78 2.05 0 2.83L4 21.41c.39.39.9.59 1.41.59.51 0 1.02-.2 1.41-.59l7.78-7.78 2.81-2.81c.8-.78.8-2.07 0-2.86zM5.41 20L4 18.59l7.72-7.72 1.47 1.35L5.41 20z\"/>\n",
              "  </svg>\n",
              "      </button>\n",
              "      \n",
              "  <style>\n",
              "    .colab-df-container {\n",
              "      display:flex;\n",
              "      flex-wrap:wrap;\n",
              "      gap: 12px;\n",
              "    }\n",
              "\n",
              "    .colab-df-convert {\n",
              "      background-color: #E8F0FE;\n",
              "      border: none;\n",
              "      border-radius: 50%;\n",
              "      cursor: pointer;\n",
              "      display: none;\n",
              "      fill: #1967D2;\n",
              "      height: 32px;\n",
              "      padding: 0 0 0 0;\n",
              "      width: 32px;\n",
              "    }\n",
              "\n",
              "    .colab-df-convert:hover {\n",
              "      background-color: #E2EBFA;\n",
              "      box-shadow: 0px 1px 2px rgba(60, 64, 67, 0.3), 0px 1px 3px 1px rgba(60, 64, 67, 0.15);\n",
              "      fill: #174EA6;\n",
              "    }\n",
              "\n",
              "    [theme=dark] .colab-df-convert {\n",
              "      background-color: #3B4455;\n",
              "      fill: #D2E3FC;\n",
              "    }\n",
              "\n",
              "    [theme=dark] .colab-df-convert:hover {\n",
              "      background-color: #434B5C;\n",
              "      box-shadow: 0px 1px 3px 1px rgba(0, 0, 0, 0.15);\n",
              "      filter: drop-shadow(0px 1px 2px rgba(0, 0, 0, 0.3));\n",
              "      fill: #FFFFFF;\n",
              "    }\n",
              "  </style>\n",
              "\n",
              "      <script>\n",
              "        const buttonEl =\n",
              "          document.querySelector('#df-3bc2491a-49cf-464f-aca1-f6ef0868584a button.colab-df-convert');\n",
              "        buttonEl.style.display =\n",
              "          google.colab.kernel.accessAllowed ? 'block' : 'none';\n",
              "\n",
              "        async function convertToInteractive(key) {\n",
              "          const element = document.querySelector('#df-3bc2491a-49cf-464f-aca1-f6ef0868584a');\n",
              "          const dataTable =\n",
              "            await google.colab.kernel.invokeFunction('convertToInteractive',\n",
              "                                                     [key], {});\n",
              "          if (!dataTable) return;\n",
              "\n",
              "          const docLinkHtml = 'Like what you see? Visit the ' +\n",
              "            '<a target=\"_blank\" href=https://colab.research.google.com/notebooks/data_table.ipynb>data table notebook</a>'\n",
              "            + ' to learn more about interactive tables.';\n",
              "          element.innerHTML = '';\n",
              "          dataTable['output_type'] = 'display_data';\n",
              "          await google.colab.output.renderOutput(dataTable, element);\n",
              "          const docLink = document.createElement('div');\n",
              "          docLink.innerHTML = docLinkHtml;\n",
              "          element.appendChild(docLink);\n",
              "        }\n",
              "      </script>\n",
              "    </div>\n",
              "  </div>\n",
              "  "
            ],
            "text/plain": [
              "      Unnamed: 0    id  ...  closed_date  community_owned_date\n",
              "13            13    20  ...          NaT                   NaT\n",
              "228          228   352  ...          NaT                   NaT\n",
              "1158        1158  1929  ...          NaT                   NaT\n",
              "1207        1207  2003  ...          NaT                   NaT\n",
              "1210        1210  2007  ...          NaT                   NaT\n",
              "\n",
              "[5 rows x 15 columns]"
            ]
          },
          "metadata": {},
          "execution_count": 43
        }
      ]
    },
    {
      "cell_type": "code",
      "source": [
        "df_ans = df_post['creation_date'] < current_date\n",
        "df_ans = df_post['answer_count']\n"
      ],
      "metadata": {
        "id": "X3Y7xs__-CZi"
      },
      "execution_count": 44,
      "outputs": []
    },
    {
      "cell_type": "code",
      "source": [
        "#Total Reputation from post upvotes \n",
        "import pandas as pd\n",
        "Reputation_Count=0\n",
        "v_creationDate = df_votes['creation_date']\n",
        "print(v_creationDate)\n",
        "df_post = df_post[df_post['owner_user_id']==1]\n",
        "df_votes = df_votes[df_votes['vote_type_id']==1]\n",
        "df_votes = df_votes[df_votes['user_id']==5]\n",
        "Reputation_Count =15"
      ],
      "metadata": {
        "colab": {
          "base_uri": "https://localhost:8080/"
        },
        "id": "Z1lFCtOpEfMf",
        "outputId": "1445a5e4-133c-4f86-db7f-c82ac06b5638"
      },
      "execution_count": 45,
      "outputs": [
        {
          "output_type": "stream",
          "name": "stdout",
          "text": [
            "0          2008-07-31\n",
            "1          2008-07-31\n",
            "2          2008-07-31\n",
            "3          2008-07-31\n",
            "4          2008-07-31\n",
            "              ...    \n",
            "4747932    2010-01-09\n",
            "4747933    2010-01-09\n",
            "4747934    2010-01-09\n",
            "4747935    2010-01-09\n",
            "4747936           NaN\n",
            "Name: creation_date, Length: 4747937, dtype: object\n"
          ]
        }
      ]
    }
  ]
}