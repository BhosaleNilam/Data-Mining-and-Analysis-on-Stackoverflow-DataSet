{
  "cells": [
    {
      "cell_type": "code",
      "execution_count": null,
      "metadata": {
        "colab": {
          "base_uri": "https://localhost:8080/"
        },
        "id": "j_6GedkPlToM",
        "outputId": "46c23a17-d888-417d-cf73-c619172f1352"
      },
      "outputs": [
        {
          "name": "stdout",
          "output_type": "stream",
          "text": [
            "Completed loading post.csv\n",
            "Completed loading user.csv\n",
            "Completed loading df_ph.csv 3923448\n",
            "After cleaning the ph data frame 3923448\n",
            "Completed loading votes.csv\n"
          ]
        }
      ],
      "source": [
        "import pandas as pd\n",
        "import io\n",
        "import matplotlib.pyplot as plt\n",
        "\n",
        "\n",
        "df_post = pd.read_csv('/content/posts.csv')\n",
        "print(\"Completed loading post.csv\")\n",
        "\n",
        "df_user = pd.read_csv('/content/users.csv')\n",
        "print(\"Completed loading user.csv\")\n",
        "\n",
        "df_ph = pd.read_csv('/content/post_history.csv')\n",
        "print(\"Completed loading df_ph.csv {}\".format(df_ph.shape[0]))\n",
        "print(\"After cleaning the ph data frame {}\".format(df_ph.shape[0]))\n",
        "\n",
        "df_votes= pd.read_csv('/content/votes.csv')\n",
        "print(\"Completed loading votes.csv\")\n",
        "\n",
        "\n"
      ]
    },
    {
      "cell_type": "code",
      "execution_count": null,
      "metadata": {
        "colab": {
          "base_uri": "https://localhost:8080/"
        },
        "id": "BCVi_nlGO5_A",
        "outputId": "47f19b82-575f-435d-8df0-e350d664bf4e"
      },
      "outputs": [
        {
          "name": "stdout",
          "output_type": "stream",
          "text": [
            "user data types\n",
            " Unnamed: 0        int64\n",
            "id                int64\n",
            "reputation        int64\n",
            "creation_date    object\n",
            "display_name     object\n",
            "views             int64\n",
            "upvotes           int64\n",
            "downvotes         int64\n",
            "account_id        int64\n",
            "dtype: object\n",
            "post data types\n",
            " Unnamed: 0                int64\n",
            "id                        int64\n",
            "post_type_id              int64\n",
            "accepted_answer_id        int64\n",
            "parent_id                 int64\n",
            "creation_date            object\n",
            "score                     int64\n",
            "view_count                int64\n",
            "owner_user_id             int64\n",
            "tags                     object\n",
            "answer_count            float64\n",
            "comment_count           float64\n",
            "favorite_count          float64\n",
            "closed_date              object\n",
            "community_owned_date     object\n",
            "dtype: object\n",
            "ph data types\n",
            " Unnamed: 0         int64\n",
            "id               float64\n",
            "ph_type_id       float64\n",
            "post_id          float64\n",
            "creation_date     object\n",
            "user_id          float64\n",
            "dtype: object\n",
            "vote data types\n",
            " Unnamed: 0         int64\n",
            "id               float64\n",
            "post_id          float64\n",
            "vote_type_id     float64\n",
            "creation_date     object\n",
            "bounty_amount    float64\n",
            "user_id          float64\n",
            "dtype: object\n",
            "(3923448, 6)\n",
            "(2793716, 15)\n",
            "Unnamed: 0                int64\n",
            "id                        int64\n",
            "post_type_id              int64\n",
            "accepted_answer_id        int64\n",
            "parent_id                 int64\n",
            "creation_date            object\n",
            "score                     int64\n",
            "view_count                int64\n",
            "owner_user_id             int64\n",
            "tags                     object\n",
            "answer_count            float64\n",
            "comment_count           float64\n",
            "favorite_count          float64\n",
            "closed_date              object\n",
            "community_owned_date     object\n",
            "dtype: object\n"
          ]
        }
      ],
      "source": [
        "#set the datetime\n",
        "print(\"user data types\\n {}\".format(df_user.dtypes))\n",
        "print(\"post data types\\n {}\".format(df_post.dtypes))\n",
        "print(\"ph data types\\n {}\".format(df_ph.dtypes))\n",
        "print(\"vote data types\\n {}\".format(df_votes.dtypes))\n",
        "\n",
        "print(df_ph.shape)\n",
        "print(df_post.shape)\n",
        "print(df_post.dtypes)"
      ]
    },
    {
      "cell_type": "code",
      "execution_count": null,
      "metadata": {
        "colab": {
          "base_uri": "https://localhost:8080/"
        },
        "id": "LDSFmWMtO2OD",
        "outputId": "03dc49d5-9797-45cb-96d9-b280717f2359"
      },
      "outputs": [
        {
          "name": "stdout",
          "output_type": "stream",
          "text": [
            "----------------DATA TYPES of USER DATAFRAME-------------\n",
            "Unnamed: 0                int64\n",
            "id                        int64\n",
            "reputation                int64\n",
            "creation_date    datetime64[ns]\n",
            "display_name             object\n",
            "views                     int64\n",
            "upvotes                   int64\n",
            "downvotes                 int64\n",
            "account_id                int64\n",
            "dtype: object\n",
            "----------------DATA TYPES of POST DATAFRAME-------------\n",
            "Unnamed: 0                       int64\n",
            "id                               int64\n",
            "post_type_id                     int64\n",
            "accepted_answer_id               int64\n",
            "parent_id                        int64\n",
            "creation_date           datetime64[ns]\n",
            "score                            int64\n",
            "view_count                       int64\n",
            "owner_user_id                    int64\n",
            "tags                            object\n",
            "answer_count                   float64\n",
            "comment_count                  float64\n",
            "favorite_count                 float64\n",
            "closed_date             datetime64[ns]\n",
            "community_owned_date    datetime64[ns]\n",
            "dtype: object\n",
            "----------------DATA TYPES of PH DATAFRAME---------------\n",
            "Unnamed: 0                int64\n",
            "id                      float64\n",
            "ph_type_id              float64\n",
            "post_id                 float64\n",
            "creation_date    datetime64[ns]\n",
            "user_id                 float64\n",
            "dtype: object\n",
            "----------------DATA TYPES of VOTE DATAFRAME-------------\n",
            "Unnamed: 0         int64\n",
            "id               float64\n",
            "post_id          float64\n",
            "vote_type_id     float64\n",
            "creation_date     object\n",
            "bounty_amount    float64\n",
            "user_id          float64\n",
            "dtype: object\n"
          ]
        }
      ],
      "source": [
        "df_user['creation_date'] = pd.to_datetime(df_user['creation_date'],errors='coerce',format='%Y-%m-%dT%H:%M:%S.%f')\n",
        "df_post['creation_date'] = pd.to_datetime(df_post['creation_date'],errors='coerce',format='%Y-%m-%dT%H:%M:%S.%f')\n",
        "df_post['closed_date'] = pd.to_datetime(df_post['closed_date'],format='%Y-%m-%dT%H:%M:%S.%f')\n",
        "df_post['community_owned_date'] = pd.to_datetime(df_post['community_owned_date'],format='%Y-%m-%dT%H:%M:%S.%f')\n",
        "\n",
        "df_ph['creation_date'] = pd.to_datetime(df_ph['creation_date'],format='%Y-%m-%dT%H:%M:%S.%f')\n",
        "#df_votes['creation_date'] = pd.to_datetime(df_votes['creation_date'],format='%Y-%m-%dT%H:%M:%S.%f')\n",
        "\n",
        "print(\"----------------DATA TYPES of USER DATAFRAME-------------\\n{}\".format(df_user.dtypes))\n",
        "print(\"----------------DATA TYPES of POST DATAFRAME-------------\\n{}\".format(df_post.dtypes))\n",
        "print(\"----------------DATA TYPES of PH DATAFRAME---------------\\n{}\".format(df_ph.dtypes))\n",
        "print(\"----------------DATA TYPES of VOTE DATAFRAME-------------\\n{}\".format(df_votes.dtypes))"
      ]
    },
    {
      "cell_type": "code",
      "execution_count": null,
      "metadata": {
        "colab": {
          "base_uri": "https://localhost:8080/"
        },
        "id": "hP4T-uPukPO2",
        "outputId": "e278293f-0b28-4612-d1ca-6ea48b38ae12"
      },
      "outputs": [
        {
          "name": "stdout",
          "output_type": "stream",
          "text": [
            "         Unnamed: 0       id  ...  closed_date    community_owned_date\n",
            "0                 0        4  ...          NaT                     NaT\n",
            "1                 1        6  ...          NaT                     NaT\n",
            "3                 3        8  ...          NaT                     NaT\n",
            "4                 4        9  ...          NaT 2011-08-16 19:40:43.080\n",
            "5                 5       11  ...          NaT 2009-09-04 13:15:59.820\n",
            "...             ...      ...  ...          ...                     ...\n",
            "2793704     2793704  3199696  ...          NaT                     NaT\n",
            "2793710     2793710  3199702  ...          NaT                     NaT\n",
            "2793713     2793713  3199706  ...          NaT                     NaT\n",
            "2793714     2793714  3199707  ...          NaT                     NaT\n",
            "2793715     2793715  3199708  ...          NaT                     NaT\n",
            "\n",
            "[742366 rows x 15 columns]\n"
          ]
        }
      ],
      "source": [
        "df_questions=df_post[df_post['post_type_id']==1]\n",
        "print(df_questions)\n"
      ]
    },
    {
      "cell_type": "code",
      "execution_count": null,
      "metadata": {
        "colab": {
          "base_uri": "https://localhost:8080/"
        },
        "id": "kDSIPMMCmsBh",
        "outputId": "0360cf76-4dd6-41a4-b351-4c30f29f7b8e"
      },
      "outputs": [
        {
          "name": "stderr",
          "output_type": "stream",
          "text": [
            "/usr/local/lib/python3.7/dist-packages/ipykernel_launcher.py:1: SettingWithCopyWarning: \n",
            "A value is trying to be set on a copy of a slice from a DataFrame.\n",
            "Try using .loc[row_indexer,col_indexer] = value instead\n",
            "\n",
            "See the caveats in the documentation: https://pandas.pydata.org/pandas-docs/stable/user_guide/indexing.html#returning-a-view-versus-a-copy\n",
            "  \"\"\"Entry point for launching an IPython kernel.\n"
          ]
        }
      ],
      "source": [
        "df_questions['thread_Count'] =df_questions['answer_count'] + df_questions['comment_count']"
      ]
    },
    {
      "cell_type": "code",
      "execution_count": null,
      "metadata": {
        "colab": {
          "base_uri": "https://localhost:8080/"
        },
        "id": "0bdRfoGykPWE",
        "outputId": "6ae7bdda-b40e-40bf-bb03-a275f5a8d131"
      },
      "outputs": [
        {
          "name": "stdout",
          "output_type": "stream",
          "text": [
            "<pandas.core.groupby.generic.DataFrameGroupBy object at 0x7fcd1d9adf50>\n",
            "<pandas.core.groupby.generic.DataFrameGroupBy object at 0x7fcd1d9adfd0>\n"
          ]
        }
      ],
      "source": [
        "answer_count = df_questions['answer_count']\n",
        "answer_count = df_questions.groupby('answer_count')\n",
        "print(answer_count)\n",
        "thread_len = df_questions['thread_Count']\n",
        "thread_count = df_questions.groupby('thread_Count')\n",
        "print(thread_count)"
      ]
    },
    {
      "cell_type": "code",
      "execution_count": null,
      "metadata": {
        "colab": {
          "base_uri": "https://localhost:8080/"
        },
        "id": "_yCcToXxc7RF",
        "outputId": "760cc268-6424-40d2-b927-3904e9307c62"
      },
      "outputs": [
        {
          "name": "stdout",
          "output_type": "stream",
          "text": [
            "[2.987, 152.382, 159.024, 126.925, 90.505, 62.989, 42.933, 29.282, 20.543, 14.154, 10.011, 7.153, 5.27, 3.809, 2.843, 2.129, 1.679, 1.286, 0.978, 0.82, 0.648, 0.526, 0.422, 0.343, 0.338, 0.269, 0.223, 0.205, 0.16, 0.137, 0.119, 0.117, 0.106, 0.077, 0.076, 0.068, 0.066, 0.057, 0.048, 0.042, 0.042, 0.037, 0.031, 0.024, 0.022, 0.016, 0.027, 0.017, 0.016, 0.021, 0.018, 0.011, 0.025, 0.02, 0.015, 0.011, 0.013, 0.012, 0.007, 0.007, 0.007, 0.008, 0.006, 0.004, 0.008, 0.004, 0.008, 0.006, 0.006, 0.003, 0.004, 0.005, 0.003, 0.001, 0.008, 0.003, 0.005, 0.002, 0.005, 0.003, 0.004, 0.005, 0.001, 0.002, 0.002, 0.004, 0.003, 0.002, 0.007, 0.002, 0.003, 0.002, 0.002, 0.003, 0.001, 0.002, 0.001, 0.001, 0.002, 0.002, 0.002, 0.004, 0.001, 0.001, 0.003, 0.002, 0.001, 0.001, 0.001, 0.001, 0.002, 0.001, 0.001, 0.001, 0.002, 0.001, 0.001, 0.001, 0.001, 0.003, 0.001, 0.002, 0.002, 0.002, 0.002, 0.001, 0.001, 0.001, 0.001, 0.001, 0.001, 0.001, 0.001, 0.001, 0.002, 0.001, 0.001, 0.001, 0.001, 0.001, 0.002, 0.001, 0.001, 0.001, 0.001, 0.001, 0.001, 0.001, 0.001, 0.001, 0.001, 0.001, 0.001, 0.001, 0.001, 0.001, 0.001]\n",
            "<built-in method reverse of list object at 0x7fcd1ece1b40>\n"
          ]
        }
      ],
      "source": [
        "y_axis= []\n",
        "x_axis= []\n",
        "x_axisNew = []\n",
        "my_dict = {\"ques_count\":[],\"answer_count\":[]};\n",
        "totalLen = len(df_questions['answer_count'].index)\n",
        "typecount = len(df_questions['post_type_id'].index)\n",
        "th = len(df_questions['thread_Count'].index)\n",
        "#print(totalLen)\n",
        "for i in (answer_count.groups.keys()):\n",
        "  my_dict[\"ques_count\"].append(i)\n",
        "for j in (thread_count.groups.values()):\n",
        "    my_dict[\"answer_count\"].append(len(j))\n",
        "#print(my_dict)\n",
        "\n",
        "for key,value in my_dict.items():\n",
        "  #print(key)\n",
        "  if(key == \"ques_count\"):\n",
        "    y_axis.append(value)\n",
        "    #print(y_axis)\n",
        "  else :\n",
        "    x_axis.append(value)\n",
        "    #print(x_axis)\n",
        "     \n",
        "y_axis =y_axis[0]\n",
        "\n",
        "x_axis =x_axis[0]\n",
        "for i in x_axis:\n",
        "  value = i/1000\n",
        "  #print(value)\n",
        "  x_axisNew.append(value)\n",
        "#print(x_axis)\n",
        "print(x_axisNew)\n",
        "print(y_axis.reverse)\n",
        "y_axis.reverse()\n",
        "#print(len(x_axis))\n",
        "\n",
        "\n"
      ]
    },
    {
      "cell_type": "code",
      "execution_count": null,
      "metadata": {
        "colab": {
          "base_uri": "https://localhost:8080/",
          "height": 295
        },
        "id": "dvhXN7ZZxoEW",
        "outputId": "62ca4fc4-3ba2-473f-8f1c-fe217f76b942"
      },
      "outputs": [
        {
          "data": {
            "image/png": "[encoded data removed]",
            "text/plain": [
              "<Figure size 432x288 with 1 Axes>"
            ]
          },
          "metadata": {},
          "output_type": "display_data"
        }
      ],
      "source": [
        "import numpy as np\n",
        "import matplotlib.pyplot as plt\n",
        "     \n",
        "n=26\n",
        "r = np.arange(n)\n",
        "width = 0.50\n",
        "bars = ('500000', '1000000', '1500000', '2000000', '2500000')\n",
        "y_pos = np.arange(len(bars))  \n",
        "  \n",
        "plt.bar(r, x_axisNew[:26], color = 'b',\n",
        "        width = width, edgecolor = 'black',\n",
        "        label='Number of Answers')\n",
        "plt.bar(r + width, y_axis[:26], color = 'r',\n",
        "        width = width, edgecolor = 'black',\n",
        "        label='Total Thread Length')\n",
        "  \n",
        "plt.xlabel(\"Answers/Thread Length\")\n",
        "plt.ylabel(\"Number of Questions\")\n",
        "plt.title(\"Histogram : Answers,Thread Lengths for questions\")\n",
        "  \n",
        "plt.legend()\n",
        "plt.savefig('abc')\n",
        "plt.show()"
      ]
    }
  ],
  "metadata": {
    "accelerator": "GPU",
    "colab": {
      "collapsed_sections": [],
      "name": "SE_1.ipynb",
      "provenance": []
    },
    "kernelspec": {
      "display_name": "Python 3",
      "name": "python3"
    },
    "language_info": {
      "name": "python"
    }
  },
  "nbformat": 4,
  "nbformat_minor": 0
}